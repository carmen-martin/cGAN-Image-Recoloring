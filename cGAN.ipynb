{
 "cells": [
  {
   "cell_type": "code",
   "execution_count": null,
   "id": "7dce59f5",
   "metadata": {},
   "outputs": [],
   "source": [
    "import torch\n",
    "import torch.nn as nn\n",
    "import torch.nn.functional as F\n",
    "DATAPATH = './models/'\n",
    "# GPU training\n",
    "DEVICE = (torch.device('cuda') if torch.cuda.is_available() else torch.device('cpu'))\n",
    "print(f\"Training on device {device}.\")"
   ]
  },
  {
   "cell_type": "code",
   "execution_count": 1,
   "id": "dcc312b4",
   "metadata": {},
   "outputs": [],
   "source": [
    "import datetime as dt\n",
    "\n",
    "def training_loop(n_epochs, optimizer, generator, discriminator, loss_fn, train_loader):\n",
    "    best_valid_acc = 0.0\n",
    "    for epoch in range(1, n_epochs + 1):\n",
    "        loss_train = 0.0\n",
    "        # training loss\n",
    "        for colored, grayscale in train_loader:\n",
    "            colored = colored.to(device=DEVICE)\n",
    "            grayscale = grayscale.to(device=DEVICE)\n",
    "            # We alternate between one gradient descent step on D, then one step on G.\n",
    "            optimizer.zero_grad()\n",
    "            loss.backward()\n",
    "            optimizer.step()\n",
    "            loss_train += loss.item()\n",
    "            pass\n",
    "        # validation loss\n",
    "        with torch.no_grad():\n",
    "            for colored, grayscale in valid_loader:\n",
    "                colored = colored.to(device=DEVICE)\n",
    "                grayscale = grayscale.to(device=DEVICE)\n",
    "                # Count number of True Negatives and True Positives\n",
    "            pass\n",
    "        # Verbose training\n",
    "        if epoch == 1 or epoch % 10 == 0:\n",
    "            print('{} Epoch {}, Training loss {}'.format(dt.datetime.now(), epoch, loss_train / len(train_loader)))\n",
    "        # Save best model so far\n",
    "        if valid_acc > best_valid_acc:\n",
    "            torch.save(generator.state_dict(), DATA_PATH + 'G_{:2.2f}_{:2.2f}.pt'.format(loss_train, valid_acc))\n",
    "            torch.save(discriminator.state_dict(), DATA_PATH + 'D_{:2.2f}_{:2.2f}.pt'.format(loss_train, valid_acc))\n",
    "    pass"
   ]
  },
  {
   "cell_type": "code",
   "execution_count": null,
   "id": "223bf639",
   "metadata": {},
   "outputs": [],
   "source": [
    "#train_dataloader = \n",
    "#valid_dataloader = \n",
    "unet = UNet().to(device=DEVICE) # Implement U-Net generator\n",
    "patchgan = PatchGAN().to(device=DEVICE) # Implement patchGAN discriminator\n",
    "g_optimizer = torch.optim.Adam(unet.parameters(), lr=1e-2)\n",
    "d_optimizer = torch.optim.Adam(patchgan.parameters(), lr=1e-2)\n",
    "#loss_fn = cGAN loss + L1 regularization on G\n",
    "training_loop(\n",
    "    n_epochs = 100,\n",
    "    optimizers = (g_optimizer, d_optimizer),\n",
    "    generator = unet,\n",
    "    discriminator = patchgan,\n",
    "    loss_fn = loss_fn,\n",
    "    train_loader = train_loader)"
   ]
  },
  {
   "cell_type": "code",
   "execution_count": null,
   "id": "1a48584f",
   "metadata": {},
   "outputs": [],
   "source": [
    "model.load_state_dict(torch.load(DATAPATH + 'cGAN_{:2.2f}_{:2.2f}.pt'.format(), map_location=DEVICE))"
   ]
  }
 ],
 "metadata": {
  "kernelspec": {
   "display_name": "Python 3 (ipykernel)",
   "language": "python",
   "name": "python3"
  },
  "language_info": {
   "codemirror_mode": {
    "name": "ipython",
    "version": 3
   },
   "file_extension": ".py",
   "mimetype": "text/x-python",
   "name": "python",
   "nbconvert_exporter": "python",
   "pygments_lexer": "ipython3",
   "version": "3.8.10"
  }
 },
 "nbformat": 4,
 "nbformat_minor": 5
}
