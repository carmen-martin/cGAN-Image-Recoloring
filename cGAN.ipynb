{
 "cells": [
  {
   "cell_type": "code",
   "execution_count": 1,
   "id": "7dce59f5",
   "metadata": {},
   "outputs": [
    {
     "name": "stdout",
     "output_type": "stream",
     "text": [
      "Training on device cuda.\n"
     ]
    }
   ],
   "source": [
    "import torch\n",
    "import torch.nn as nn\n",
    "import torch.nn.functional as F\n",
    "DATAPATH = './models/'\n",
    "# GPU training\n",
    "DEVICE = (torch.device('cuda') if torch.cuda.is_available() else torch.device('cpu'))\n",
    "print(f\"Training on device {DEVICE}.\")"
   ]
  },
  {
   "cell_type": "code",
   "execution_count": 2,
   "id": "dcc312b4",
   "metadata": {},
   "outputs": [],
   "source": [
    "import datetime as dt\n",
    "\n",
    "def cgan_training_loop(n_epochs, optimizers, generator, discriminator, train_loader, valid_loader):\n",
    "    best_valid_loss = float('inf')\n",
    "    # We alternate between one gradient descent step on D, then one step on G.\n",
    "    for epoch in range(1, n_epochs + 1):\n",
    "        g_loss = 0.0\n",
    "        d_loss = 0.0\n",
    "        generator.train(mode=True)\n",
    "        discriminator.train(mode=True)\n",
    "        for colored, grayscale in train_loader:\n",
    "            colored = colored.to(device=DEVICE)\n",
    "            grayscale = grayscale.to(device=DEVICE)\n",
    "            # Ascend D gradient\n",
    "            # Freeze G weights\n",
    "            for p in generator.parameters():\n",
    "                p.requires_grad = False\n",
    "            g_output = generator(grayscale)\n",
    "            d_output_real = discriminator(colored, grayscale)\n",
    "            d_output_fake = discriminator(g_output, grayscale)\n",
    "            loss = CGANDiscriminatorLoss(d_output_real, d_output_fake)\n",
    "            optimizers[1].zero_grad()\n",
    "            loss.backward()\n",
    "            optimizers[1].step()\n",
    "            d_loss += loss.item()\n",
    "            # Unfreeze G parameters\n",
    "            for p in generator.parameters():\n",
    "                p.requires_grad = True\n",
    "            # Descend G gradient\n",
    "            # Freeze D weights\n",
    "            for p in discriminator.parameters():\n",
    "                p.requires_grad = False\n",
    "            # Same sample as in D gradient?\n",
    "            g_output = generator(grayscale)\n",
    "            d_output_fake = discriminator(g_output, grayscale)\n",
    "            loss = CGANGeneratorLoss(d_output_fake) + torch.nn.L1loss(colored, g_output)\n",
    "            optimizers[0].zero_grad()\n",
    "            loss.backward()\n",
    "            optimizers[0].step()\n",
    "            g_loss += loss.item()\n",
    "            # Unfreeze D weights\n",
    "            for p in discriminator.parameters():\n",
    "                p.requires_grad = True\n",
    "            del g_output, d_output_real, d_output_fake\n",
    "        # Validation\n",
    "        with torch.no_grad():\n",
    "            generator.train(mode=False)\n",
    "            discriminator.train(mode=False)\n",
    "            valid_loss = 0.0\n",
    "            for colored, grayscale in valid_loader:\n",
    "                colored = colored.to(device=DEVICE)\n",
    "                grayscale = grayscale.to(device=DEVICE)\n",
    "                g_output = generator(grayscale)\n",
    "                d_output_real = discriminator(colored, grayscale)\n",
    "                d_output_fake = discriminator(g_output, grayscale)\n",
    "                valid_loss += torch.mean(torch.log(d_output_real) + torch.log(1 - d_output_fake)) +\\\n",
    "                             torch.nn.L1loss(colored, g_output)\n",
    "                del g_output, d_output_real, d_output_fake\n",
    "        # Verbose training\n",
    "        if epoch == 1 or epoch % 10 == 0:\n",
    "            print('{} Epoch {}, Training {}, Valid {}'.format(dt.datetime.now(), epoch,\n",
    "                                                         loss_train / len(train_loader),\n",
    "                                                         valid_loss / len(valid_loader)))\n",
    "        # Save best model so far\n",
    "        if valid_loss < best_valid_loss - 0.5:\n",
    "            torch.save(generator.state_dict(), DATA_PATH + 'G_{:2.2f}.pt'.format(valid_loss / len(valid_loader)))\n",
    "            best_valid_loss = valid_loss\n",
    "    del d_loss, g_loss"
   ]
  },
  {
   "cell_type": "code",
   "execution_count": 3,
   "id": "223bf639",
   "metadata": {},
   "outputs": [
    {
     "ename": "TypeError",
     "evalue": "forward() takes 2 positional arguments but 3 were given",
     "output_type": "error",
     "traceback": [
      "\u001b[0;31m---------------------------------------------------------------------------\u001b[0m",
      "\u001b[0;31mTypeError\u001b[0m                                 Traceback (most recent call last)",
      "Cell \u001b[0;32mIn[3], line 11\u001b[0m\n\u001b[1;32m      9\u001b[0m g_optimizer \u001b[38;5;241m=\u001b[39m torch\u001b[38;5;241m.\u001b[39moptim\u001b[38;5;241m.\u001b[39mAdam(unet\u001b[38;5;241m.\u001b[39mparameters(), lr\u001b[38;5;241m=\u001b[39m\u001b[38;5;241m1e-2\u001b[39m)\n\u001b[1;32m     10\u001b[0m d_optimizer \u001b[38;5;241m=\u001b[39m torch\u001b[38;5;241m.\u001b[39moptim\u001b[38;5;241m.\u001b[39mAdam(patchgan\u001b[38;5;241m.\u001b[39mparameters(), lr\u001b[38;5;241m=\u001b[39m\u001b[38;5;241m1e-2\u001b[39m)\n\u001b[0;32m---> 11\u001b[0m \u001b[43mcgan_training_loop\u001b[49m\u001b[43m(\u001b[49m\n\u001b[1;32m     12\u001b[0m \u001b[43m    \u001b[49m\u001b[43mn_epochs\u001b[49m\u001b[43m \u001b[49m\u001b[38;5;241;43m=\u001b[39;49m\u001b[43m \u001b[49m\u001b[38;5;241;43m100\u001b[39;49m\u001b[43m,\u001b[49m\n\u001b[1;32m     13\u001b[0m \u001b[43m    \u001b[49m\u001b[43moptimizers\u001b[49m\u001b[43m \u001b[49m\u001b[38;5;241;43m=\u001b[39;49m\u001b[43m \u001b[49m\u001b[43m(\u001b[49m\u001b[43mg_optimizer\u001b[49m\u001b[43m,\u001b[49m\u001b[43m \u001b[49m\u001b[43md_optimizer\u001b[49m\u001b[43m)\u001b[49m\u001b[43m,\u001b[49m\n\u001b[1;32m     14\u001b[0m \u001b[43m    \u001b[49m\u001b[43mgenerator\u001b[49m\u001b[43m \u001b[49m\u001b[38;5;241;43m=\u001b[39;49m\u001b[43m \u001b[49m\u001b[43munet\u001b[49m\u001b[43m,\u001b[49m\n\u001b[1;32m     15\u001b[0m \u001b[43m    \u001b[49m\u001b[43mdiscriminator\u001b[49m\u001b[43m \u001b[49m\u001b[38;5;241;43m=\u001b[39;49m\u001b[43m \u001b[49m\u001b[43mpatchgan\u001b[49m\u001b[43m,\u001b[49m\n\u001b[1;32m     16\u001b[0m \u001b[43m    \u001b[49m\u001b[43mtrain_loader\u001b[49m\u001b[43m \u001b[49m\u001b[38;5;241;43m=\u001b[39;49m\u001b[43m \u001b[49m\u001b[43mtrain_dataloader\u001b[49m\u001b[43m,\u001b[49m\n\u001b[1;32m     17\u001b[0m \u001b[43m    \u001b[49m\u001b[43mvalid_loader\u001b[49m\u001b[38;5;241;43m=\u001b[39;49m\u001b[43m \u001b[49m\u001b[43mvalid_dataloader\u001b[49m\u001b[43m)\u001b[49m\n\u001b[1;32m     18\u001b[0m torch\u001b[38;5;241m.\u001b[39mcuda\u001b[38;5;241m.\u001b[39mempty_cache()\n",
      "Cell \u001b[0;32mIn[2], line 19\u001b[0m, in \u001b[0;36mcgan_training_loop\u001b[0;34m(n_epochs, optimizers, generator, discriminator, train_loader, valid_loader)\u001b[0m\n\u001b[1;32m     17\u001b[0m     p\u001b[38;5;241m.\u001b[39mrequires_grad \u001b[38;5;241m=\u001b[39m \u001b[38;5;28;01mFalse\u001b[39;00m\n\u001b[1;32m     18\u001b[0m g_output \u001b[38;5;241m=\u001b[39m generator(grayscale)\n\u001b[0;32m---> 19\u001b[0m d_output_real \u001b[38;5;241m=\u001b[39m \u001b[43mdiscriminator\u001b[49m\u001b[43m(\u001b[49m\u001b[43mcolored\u001b[49m\u001b[43m,\u001b[49m\u001b[43m \u001b[49m\u001b[43mgrayscale\u001b[49m\u001b[43m)\u001b[49m\n\u001b[1;32m     20\u001b[0m d_output_fake \u001b[38;5;241m=\u001b[39m discriminator(g_output, grayscale)\n\u001b[1;32m     21\u001b[0m loss \u001b[38;5;241m=\u001b[39m CGANDiscriminatorLoss(d_output_real, d_output_fake)\n",
      "File \u001b[0;32m~/.local/lib/python3.8/site-packages/torch/nn/modules/module.py:1190\u001b[0m, in \u001b[0;36mModule._call_impl\u001b[0;34m(self, *input, **kwargs)\u001b[0m\n\u001b[1;32m   1186\u001b[0m \u001b[38;5;66;03m# If we don't have any hooks, we want to skip the rest of the logic in\u001b[39;00m\n\u001b[1;32m   1187\u001b[0m \u001b[38;5;66;03m# this function, and just call forward.\u001b[39;00m\n\u001b[1;32m   1188\u001b[0m \u001b[38;5;28;01mif\u001b[39;00m \u001b[38;5;129;01mnot\u001b[39;00m (\u001b[38;5;28mself\u001b[39m\u001b[38;5;241m.\u001b[39m_backward_hooks \u001b[38;5;129;01mor\u001b[39;00m \u001b[38;5;28mself\u001b[39m\u001b[38;5;241m.\u001b[39m_forward_hooks \u001b[38;5;129;01mor\u001b[39;00m \u001b[38;5;28mself\u001b[39m\u001b[38;5;241m.\u001b[39m_forward_pre_hooks \u001b[38;5;129;01mor\u001b[39;00m _global_backward_hooks\n\u001b[1;32m   1189\u001b[0m         \u001b[38;5;129;01mor\u001b[39;00m _global_forward_hooks \u001b[38;5;129;01mor\u001b[39;00m _global_forward_pre_hooks):\n\u001b[0;32m-> 1190\u001b[0m     \u001b[38;5;28;01mreturn\u001b[39;00m \u001b[43mforward_call\u001b[49m\u001b[43m(\u001b[49m\u001b[38;5;241;43m*\u001b[39;49m\u001b[38;5;28;43minput\u001b[39;49m\u001b[43m,\u001b[49m\u001b[43m \u001b[49m\u001b[38;5;241;43m*\u001b[39;49m\u001b[38;5;241;43m*\u001b[39;49m\u001b[43mkwargs\u001b[49m\u001b[43m)\u001b[49m\n\u001b[1;32m   1191\u001b[0m \u001b[38;5;66;03m# Do not call functions when jit is used\u001b[39;00m\n\u001b[1;32m   1192\u001b[0m full_backward_hooks, non_full_backward_hooks \u001b[38;5;241m=\u001b[39m [], []\n",
      "\u001b[0;31mTypeError\u001b[0m: forward() takes 2 positional arguments but 3 were given"
     ]
    }
   ],
   "source": [
    "from cocoLoader import load_coco_dataset\n",
    "from UNet import UNet\n",
    "from PatchGAN import PatchGAN\n",
    "from cGANloss import CGANDiscriminatorLoss, CGANGeneratorLoss\n",
    "\n",
    "train_dataloader, valid_dataloader = load_coco_dataset(batch_size=130)\n",
    "unet = UNet(in_channels=1, out_channels=3).to(device=DEVICE) #Implement U-Net generator\n",
    "patchgan = PatchGAN().to(device=DEVICE)\n",
    "g_optimizer = torch.optim.Adam(unet.parameters(), lr=1e-2)\n",
    "d_optimizer = torch.optim.Adam(patchgan.parameters(), lr=1e-2)\n",
    "cgan_training_loop(\n",
    "    n_epochs = 100,\n",
    "    optimizers = (g_optimizer, d_optimizer),\n",
    "    generator = unet,\n",
    "    discriminator = patchgan,\n",
    "    train_loader = train_dataloader,\n",
    "    valid_loader= valid_dataloader)\n",
    "torch.cuda.empty_cache()"
   ]
  },
  {
   "cell_type": "code",
   "execution_count": null,
   "id": "1a48584f",
   "metadata": {},
   "outputs": [],
   "source": [
    "# Load best models\n",
    "fd = 0\n",
    "unet.load_state_dict(torch.load(DATAPATH + 'G_{:2.2f}.pt'.format(fd), map_location=DEVICE))"
   ]
  }
 ],
 "metadata": {
  "kernelspec": {
   "display_name": "Python 3 (ipykernel)",
   "language": "python",
   "name": "python3"
  },
  "language_info": {
   "codemirror_mode": {
    "name": "ipython",
    "version": 3
   },
   "file_extension": ".py",
   "mimetype": "text/x-python",
   "name": "python",
   "nbconvert_exporter": "python",
   "pygments_lexer": "ipython3",
   "version": "3.8.10"
  }
 },
 "nbformat": 4,
 "nbformat_minor": 5
}
