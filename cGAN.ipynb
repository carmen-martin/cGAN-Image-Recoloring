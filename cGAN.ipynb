{
 "cells": [
  {
   "cell_type": "code",
   "execution_count": 1,
   "id": "7dce59f5",
   "metadata": {},
   "outputs": [
    {
     "name": "stdout",
     "output_type": "stream",
     "text": [
      "Training on device cuda.\n"
     ]
    },
    {
     "data": {
      "text/plain": [
       "0"
      ]
     },
     "execution_count": 1,
     "metadata": {},
     "output_type": "execute_result"
    }
   ],
   "source": [
    "import torch\n",
    "import torch.nn as nn\n",
    "import torch.nn.functional as F\n",
    "import torchvision\n",
    "DATAPATH = './models/'\n",
    "# GPU training\n",
    "DEVICE = (torch.device('cuda') if torch.cuda.is_available() else torch.device('cpu'))\n",
    "print(f\"Training on device {DEVICE}.\")\n",
    "torch.cuda.memory_allocated()"
   ]
  },
  {
   "cell_type": "code",
   "execution_count": 2,
   "id": "dcc312b4",
   "metadata": {},
   "outputs": [],
   "source": [
    "import datetime as dt\n",
    "\n",
    "def cgan_training_loop(n_epochs, optimizers, generator, discriminator, train_loader, valid_loader, reg=0.01):\n",
    "    best_valid_loss = 10.0\n",
    "    # We alternate between one gradient descent step on D, then one step on G.\n",
    "    for epoch in range(1, n_epochs + 1):\n",
    "        train_loss = torch.empty(1).to(torch.float64)\n",
    "        generator.train(mode=True)\n",
    "        discriminator.train(mode=True)\n",
    "        for colored, grayscale in train_loader:\n",
    "            colored = colored.to(device=DEVICE)\n",
    "            grayscale = grayscale.to(device=DEVICE)\n",
    "            # Ascend D gradient\n",
    "            # Freeze G weights\n",
    "            for p in generator.parameters():\n",
    "                p.requires_grad = False\n",
    "            g_output = generator(grayscale)\n",
    "            d_output_real = discriminator(colored, grayscale)\n",
    "            d_output_fake = discriminator(g_output, grayscale)\n",
    "            loss = CGANDiscriminatorLoss()(d_output_real, d_output_fake)\n",
    "            optimizers[1].zero_grad()\n",
    "            loss.backward()\n",
    "            optimizers[1].step()\n",
    "            train_loss += loss.item()\n",
    "            # Unfreeze G parameters\n",
    "            for p in generator.parameters():\n",
    "                p.requires_grad = True\n",
    "            # Descend G gradient\n",
    "            # Freeze D weights\n",
    "            for p in discriminator.parameters():\n",
    "                p.requires_grad = False\n",
    "            # Same sample as in D gradient?\n",
    "            g_output = generator(grayscale)\n",
    "            d_output_fake = discriminator(g_output, grayscale)\n",
    "            loss = CGANGeneratorLoss()(d_output_fake) + reg * torch.nn.L1Loss()(colored, g_output)\n",
    "            optimizers[0].zero_grad()\n",
    "            loss.backward()\n",
    "            optimizers[0].step()\n",
    "            train_loss += loss.item() - CGANGeneratorLoss()(d_output_fake).item()\n",
    "            # Unfreeze D weights\n",
    "            for p in discriminator.parameters():\n",
    "                p.requires_grad = True\n",
    "            del g_output, d_output_real, d_output_fake, colored, grayscale, loss\n",
    "            torch.cuda.empty_cache()\n",
    "        # Validation\n",
    "        with torch.no_grad():\n",
    "            generator.train(mode=False)\n",
    "            discriminator.train(mode=False)\n",
    "            valid_loss = 0.0\n",
    "            for colored, grayscale in valid_loader:\n",
    "                colored = colored.to(device=DEVICE)\n",
    "                grayscale = grayscale.to(device=DEVICE)\n",
    "                g_output = generator(grayscale)\n",
    "                d_output_real = discriminator(colored, grayscale)\n",
    "                d_output_fake = discriminator(g_output, grayscale)\n",
    "                loss = CGANDiscriminatorLoss()(d_output_real, d_output_fake) +\\\n",
    "                             reg * torch.nn.L1Loss()(colored, g_output)\n",
    "                valid_loss += loss.item()\n",
    "                del g_output, d_output_real, d_output_fake, colored, grayscale, loss\n",
    "                torch.cuda.empty_cache()\n",
    "        # Verbose training\n",
    "        train_loss = train_loss / len(train_loader)\n",
    "        valid_loss = valid_loss / len(valid_loader)\n",
    "        if epoch == 1 or epoch % 100 == 0:\n",
    "            print('{} Epoch {}, Train {:.5f}, Valid {:.5f}'.format(dt.datetime.now(),\n",
    "                                                                      epoch,\n",
    "                                                                      train_loss.numpy()[0],\n",
    "                                                                      valid_loss))\n",
    "            torch.save(generator.state_dict(), DATAPATH + 'G_{:05d}epoch_{:2.2f}valLoss.pt'.format(epoch, valid_loss))\n",
    "            print(f'Saving {epoch}-th for {valid_loss = :2.5f}')\n",
    "        # Save best model so far\n",
    "        if valid_loss < best_valid_loss - 1:\n",
    "            torch.save(generator.state_dict(), DATAPATH + 'G_best.pt')\n",
    "            print(f'Saving best for {valid_loss = :2.5f}')\n",
    "            best_valid_loss = valid_loss\n"
   ]
  },
  {
   "cell_type": "code",
   "execution_count": null,
   "id": "223bf639",
   "metadata": {},
   "outputs": [],
   "source": [
    "from cocoLoader import load_coco_dataset\n",
    "from UNet import UNet\n",
    "from PatchGAN import PatchGAN\n",
    "from cGANloss import CGANDiscriminatorLoss, CGANGeneratorLoss\n",
    "\n",
    "train_dataloader, valid_dataloader = load_coco_dataset(batch_size=20, size=10000)\n",
    "unet = UNet(output_size=256, in_channels=1, out_channels=3).to(device=DEVICE)\n",
    "patchgan = PatchGAN().to(device=DEVICE)\n",
    "g_optimizer = torch.optim.Adam(unet.parameters(), lr=1e-3)\n",
    "d_optimizer = torch.optim.Adam(patchgan.parameters(), lr=1e-3)\n",
    "cgan_training_loop(\n",
    "    n_epochs = 100,\n",
    "    optimizers = (g_optimizer, d_optimizer),\n",
    "    generator = unet,\n",
    "    discriminator = patchgan,\n",
    "    train_loader = train_dataloader,\n",
    "    valid_loader= valid_dataloader,\n",
    "    reg = 100)\n",
    "torch.cuda.empty_cache()"
   ]
  },
  {
   "cell_type": "code",
   "execution_count": null,
   "id": "1a48584f",
   "metadata": {},
   "outputs": [],
   "source": [
    "# Load best models\n",
    "unet.load_state_dict(torch.load(DATAPATH + 'G_00001epoch_42.64valLoss.pt', map_location=DEVICE))\n",
    "import matplotlib.pyplot as plt\n",
    "plt.figure(figsize=(12, 60))\n",
    "mean = (0.485, 0.456, 0.406)\n",
    "std = (0.229, 0.224, 0.225)\n",
    "mean = [-1 * x / y for x, y in zip(mean, std)]\n",
    "std = [1 / x for x in std]\n",
    "unnormalize = torchvision.transforms.Normalize(mean=mean, std=std)\n",
    "for colored, grayscale in valid_dataloader:\n",
    "    for idx in range(10):\n",
    "        c = colored[idx]\n",
    "        g = grayscale[idx]\n",
    "        plt.subplot(10, 3, 1 + 3 * idx)\n",
    "        plt.imshow(unnormalize(c).permute(1, 2, 0))\n",
    "        plt.subplot(10, 3, 2 + 3 * idx)\n",
    "        plt.imshow(g.permute(1, 2, 0), 'gray')\n",
    "        generated = unet(g.to(device=DEVICE).unsqueeze(0)).detach().squeeze(0)\n",
    "        generated = unnormalize(generated)\n",
    "        plt.subplot(10, 3, 3 + 3 * idx)\n",
    "        plt.imshow(generated.squeeze(0).cpu().permute(1, 2, 0))\n",
    "    plt.show()\n",
    "    break"
   ]
  },
  {
   "cell_type": "code",
   "execution_count": null,
   "id": "b2b957bf",
   "metadata": {},
   "outputs": [],
   "source": []
  },
  {
   "cell_type": "code",
   "execution_count": null,
   "id": "759a36dc",
   "metadata": {},
   "outputs": [],
   "source": []
  }
 ],
 "metadata": {
  "kernelspec": {
   "display_name": "Python 3 (ipykernel)",
   "language": "python",
   "name": "python3"
  },
  "language_info": {
   "codemirror_mode": {
    "name": "ipython",
    "version": 3
   },
   "file_extension": ".py",
   "mimetype": "text/x-python",
   "name": "python",
   "nbconvert_exporter": "python",
   "pygments_lexer": "ipython3",
   "version": "3.8.10"
  }
 },
 "nbformat": 4,
 "nbformat_minor": 5
}
